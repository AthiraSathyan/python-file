{
  "nbformat": 4,
  "nbformat_minor": 0,
  "metadata": {
    "colab": {
      "name": "exception1.ipynb",
      "provenance": []
    },
    "kernelspec": {
      "name": "python3",
      "display_name": "Python 3"
    }
  },
  "cells": [
    {
      "cell_type": "code",
      "metadata": {
        "colab": {
          "base_uri": "https://localhost:8080/"
        },
        "id": "nC9e-l0YqYd8",
        "outputId": "57a71c27-cb44-44e6-c3fb-2c7ad37dfbb7"
      },
      "source": [
        "try:\r\n",
        "  a=int(input(\"Enter numerator:\"))\r\n",
        "  b=int(input(\"Enter denominator:\"))\r\n",
        "  print(\"%d/%d=%f\"%(a,b,a/b))\r\n",
        "except(ZeroDivisionError,ValueError)as e:\r\n",
        "  print(e)\r\n",
        "else:\r\n",
        "  print(\"Division succesful\")\r\n",
        "finally:\r\n",
        "  print(\"Executed always\")"
      ],
      "execution_count": null,
      "outputs": [
        {
          "output_type": "stream",
          "text": [
            "Enter numerator:2\n",
            "Enter denominator:0\n",
            "division by zero\n",
            "Executed always\n"
          ],
          "name": "stdout"
        }
      ]
    }
  ]
}