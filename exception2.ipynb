{
  "nbformat": 4,
  "nbformat_minor": 0,
  "metadata": {
    "colab": {
      "name": "exception2.ipynb",
      "provenance": []
    },
    "kernelspec": {
      "name": "python3",
      "display_name": "Python 3"
    }
  },
  "cells": [
    {
      "cell_type": "code",
      "metadata": {
        "colab": {
          "base_uri": "https://localhost:8080/"
        },
        "id": "6_jDTFa90LCu",
        "outputId": "ee5d3d5f-c9ee-47fb-f3be-1a5db72219ed"
      },
      "source": [
        "class LoginEx (Exception):pass\r\n",
        "try:\r\n",
        "  a=input(\"Username:\")\r\n",
        "  b=input(\"Password:\")\r\n",
        "  c=\"abc@gmail.com\"\r\n",
        "  d=\"123@456\"\r\n",
        "  if a==c and b==d:\r\n",
        "    print(\"Login succesful\")\r\n",
        "  else:\r\n",
        "    raise LoginEx(\"Invalid username and password\")\r\n",
        "except LoginEx as e:\r\n",
        "  print(e) "
      ],
      "execution_count": null,
      "outputs": [
        {
          "output_type": "stream",
          "text": [
            "Username:athira@gmail.com\n",
            "Password:athira\n",
            "Invalid username and password\n"
          ],
          "name": "stdout"
        }
      ]
    }
  ]
}