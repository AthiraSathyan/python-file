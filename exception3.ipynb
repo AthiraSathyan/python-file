{
  "nbformat": 4,
  "nbformat_minor": 0,
  "metadata": {
    "colab": {
      "name": "exception3.ipynb",
      "provenance": []
    },
    "kernelspec": {
      "name": "python3",
      "display_name": "Python 3"
    }
  },
  "cells": [
    {
      "cell_type": "code",
      "metadata": {
        "colab": {
          "base_uri": "https://localhost:8080/"
        },
        "id": "Ys2rGks4kPzt",
        "outputId": "841d7c62-5ad2-49dc-dcbc-874280c761cc"
      },
      "source": [
        "'''division of positive numbers'''\r\n",
        "try:\r\n",
        "  a=int(input(\"Enter a\"))\r\n",
        "  b=int(input(\"enter b\"))\r\n",
        "  assert b!=0,\"Abnormal condition\"\r\n",
        "  try:\r\n",
        "    if a<0 or b<0:\r\n",
        "      raise ValueError(\"unexpected number\")\r\n",
        "  except ValueError as ve:\r\n",
        "    print(ve)\r\n",
        "    raise \r\n",
        "  else:\r\n",
        "    print(\"Value accepted\")\r\n",
        "    print(\"%d/%d=%f\"%(a,b,a/b))\r\n",
        "except AssertionError as ae:\r\n",
        "    print(ae)\r\n",
        "except ValueError as ve:\r\n",
        "  print(\"Re-raised Exception-\",ve)"
      ],
      "execution_count": null,
      "outputs": [
        {
          "output_type": "stream",
          "text": [
            "Enter a2\n",
            "enter b0\n",
            "Abnormal condition\n"
          ],
          "name": "stdout"
        }
      ]
    }
  ]
}