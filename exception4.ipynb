{
  "nbformat": 4,
  "nbformat_minor": 0,
  "metadata": {
    "colab": {
      "name": "exception4.ipynb",
      "provenance": []
    },
    "kernelspec": {
      "name": "python3",
      "display_name": "Python 3"
    }
  },
  "cells": [
    {
      "cell_type": "code",
      "metadata": {
        "id": "o7YWOeGzXJSP",
        "outputId": "df0b1551-f8a1-4ecb-8d65-3fc0f41fa4fa",
        "colab": {
          "base_uri": "https://localhost:8080/"
        }
      },
      "source": [
        "a=int(input(\"Enter an integer between 90-120 :\"))\r\n",
        "try:\r\n",
        "  if a<90 or a>120:\r\n",
        "    raise ValueError(\"Abnormal condition\")\r\n",
        "except ValueError as ve:\r\n",
        "  print(ve)\r\n",
        "else:\r\n",
        "  print(\"Accepted number:\",a)\r\n"
      ],
      "execution_count": 1,
      "outputs": [
        {
          "output_type": "stream",
          "text": [
            "Enter an integer between 90-120 :70\n",
            "Abnormal condition\n"
          ],
          "name": "stdout"
        }
      ]
    }
  ]
}